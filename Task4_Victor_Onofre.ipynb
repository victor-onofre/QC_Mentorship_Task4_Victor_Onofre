{
 "cells": [
  {
   "cell_type": "markdown",
   "metadata": {},
   "source": [
    "# Task 4 #"
   ]
  },
  {
   "cell_type": "markdown",
   "metadata": {},
   "source": [
    "**Victor Osvaldo Onofre Gonzalez**\n",
    "\n",
    "**vonofre68@gmail.com**"
   ]
  },
  {
   "cell_type": "markdown",
   "metadata": {},
   "source": [
    "Find the lowest eigenvalue of the following matrix:"
   ]
  },
  {
   "cell_type": "markdown",
   "metadata": {},
   "source": [
    "\\begin{equation}\n",
    "       H = \n",
    "       \\begin{bmatrix} \n",
    "        1  & 0  &  0 & 0  \\cr\n",
    "        0  & 0  & -1 & 0  \\cr\n",
    "        0  & -1 &  0 & 0  \\cr\n",
    "        0  & 0  &  0 & 1  \\cr \\end{bmatrix} \n",
    "\\end{equation}"
   ]
  },
  {
   "cell_type": "markdown",
   "metadata": {},
   "source": [
    "using VQE-like circuits, created by yourself from scratch."
   ]
  },
  {
   "cell_type": "markdown",
   "metadata": {},
   "source": [
    "# Part I : Decomposing the matrix to the sum of Pauli terms"
   ]
  },
  {
   "cell_type": "code",
   "execution_count": 1,
   "metadata": {},
   "outputs": [],
   "source": [
    "import qutip as qt # I use QuTip for the tensor and trace function\n",
    "import numpy as np "
   ]
  },
  {
   "cell_type": "code",
   "execution_count": 2,
   "metadata": {},
   "outputs": [],
   "source": [
    "H = qt.Qobj(np.matrix([[1.0   , 0.0 , 0.0 , 0.0 ]\n",
    "                      ,[0.0   , 0.0 ,-1.0 , 0.0 ]\n",
    "                      ,[0.0   ,-1.0 , 0.0 , 0.0 ] \n",
    "                      ,[0.0   , 0.0 , 0.0 , 1.0 ]]))"
   ]
  },
  {
   "cell_type": "markdown",
   "metadata": {},
   "source": [
    "\\begin{equation}\n",
    "       H = \n",
    "       \\begin{bmatrix} \n",
    "        1  & 0  &  0 & 0  \\cr\n",
    "        0  & 0  & -1 & 0  \\cr\n",
    "        0  & -1 &  0 & 0  \\cr\n",
    "        0  & 0  &  0 & 1  \\cr \\end{bmatrix} \n",
    "\\end{equation}"
   ]
  },
  {
   "cell_type": "code",
   "execution_count": 3,
   "metadata": {},
   "outputs": [
    {
     "data": {
      "text/latex": [
       "Quantum object: dims = [[4], [4]], shape = (4, 4), type = oper, isherm = True\\begin{equation*}\\left(\\begin{array}{*{11}c}1.0 & 0.0 & 0.0 & 0.0\\\\0.0 & 0.0 & -1.0 & 0.0\\\\0.0 & -1.0 & 0.0 & 0.0\\\\0.0 & 0.0 & 0.0 & 1.0\\\\\\end{array}\\right)\\end{equation*}"
      ],
      "text/plain": [
       "Quantum object: dims = [[4], [4]], shape = (4, 4), type = oper, isherm = True\n",
       "Qobj data =\n",
       "[[ 1.  0.  0.  0.]\n",
       " [ 0.  0. -1.  0.]\n",
       " [ 0. -1.  0.  0.]\n",
       " [ 0.  0.  0.  1.]]"
      ]
     },
     "execution_count": 3,
     "metadata": {},
     "output_type": "execute_result"
    }
   ],
   "source": [
    "H"
   ]
  },
  {
   "cell_type": "code",
   "execution_count": 4,
   "metadata": {},
   "outputs": [],
   "source": [
    "Id = qt.qeye(2); Sx = qt.sigmax(); Sy = qt.sigmay(); Sz = qt.sigmaz();"
   ]
  },
  {
   "cell_type": "markdown",
   "metadata": {},
   "source": [
    "\\begin{equation}\n",
    "       Id = \\sigma_{0} = \n",
    "       \\begin{bmatrix} \n",
    "        1  & 0  \\cr\n",
    "        0  & 1  \\cr \\end{bmatrix}  \\qquad  \n",
    "       Sx =  \\sigma_{1} = \n",
    "       \\begin{bmatrix} \n",
    "        0  & 1  \\cr\n",
    "        1  & 0 \\cr \\end{bmatrix}  \\qquad\n",
    "        Sy = \\sigma_{2} = \n",
    "       \\begin{bmatrix} \n",
    "        0  & -i  \\cr\n",
    "        i  & 0 \\cr \\end{bmatrix}  \\qquad\n",
    "       Sz = \\sigma_{3} = \n",
    "       \\begin{bmatrix} \n",
    "        1  & 0  \\cr\n",
    "        0  & -1 \\cr \\end{bmatrix}  \\qquad\n",
    "\\end{equation}\n"
   ]
  },
  {
   "cell_type": "code",
   "execution_count": 5,
   "metadata": {},
   "outputs": [],
   "source": [
    "Pauli = [Id,Sx,Sy,Sz]\n",
    "PauliLabels = ['Id' , 'Sx' , 'Sy' , 'Sz'] \n",
    "aij  = 0;"
   ]
  },
  {
   "cell_type": "markdown",
   "metadata": {},
   "source": [
    "\\begin{equation}\n",
    " H = \\sum_{i,j = 0,1,2,3,4} a_{i,j} (\\sigma_{i} \\otimes \\sigma_{j}) \\qquad a_{i,j} = 0.25*Tr [ (\\sigma_{i} \\otimes \\sigma_{j}) H ]\n",
    "\\end{equation}"
   ]
  },
  {
   "cell_type": "code",
   "execution_count": 6,
   "metadata": {},
   "outputs": [
    {
     "name": "stdout",
     "output_type": "stream",
     "text": [
      "0.5 * Id (tensor) Id\n",
      "-0.5 * Sx (tensor) Sx\n",
      "-0.5 * Sy (tensor) Sy\n",
      "0.5 * Sz (tensor) Sz\n"
     ]
    }
   ],
   "source": [
    "for i in range(4):\n",
    "    for j in range(4):\n",
    "        PauliTensor = qt.Qobj(qt.tensor(Pauli[i], Pauli[j]).data.toarray(),dims=[[4],[4]]) # Tensor product of the pauli matrices (sigma_i (tensor) sigma_j), dims[[4],[4]] equal to dimens of  H\n",
    "        aij = 0.25*( (PauliTensor*H ).tr()) #Elements of the descomposition\n",
    "        label1 = PauliLabels[i] #Label i to print\n",
    "        label2 = PauliLabels[j] #Label j to print\n",
    "        if aij!= 0:\n",
    "            print(aij, '*', label1, '(tensor)', label2 ) # Print the descomposition of the matrix "
   ]
  },
  {
   "cell_type": "markdown",
   "metadata": {},
   "source": [
    "The descomposition of the matrix  $H$  to the sum of Pauli terms is:"
   ]
  },
  {
   "cell_type": "markdown",
   "metadata": {},
   "source": [
    "\\begin{equation}\n",
    " H = 0.5*(\\sigma_{0} \\otimes \\sigma_{0}) - 0.5* (\\sigma_{1} \\otimes \\sigma_{1})- 0.5* (\\sigma_{2} \\otimes \\sigma_{2}) + 0.5* (\\sigma_{3} \\otimes \\sigma_{3}) =  \\begin{bmatrix} \n",
    "        1  & 0  &  0 & 0  \\cr\n",
    "        0  & 0  & -1 & 0  \\cr\n",
    "        0  & -1 &  0 & 0  \\cr\n",
    "        0  & 0  &  0 & 1  \\cr \\end{bmatrix} \n",
    "\\end{equation}"
   ]
  },
  {
   "cell_type": "code",
   "execution_count": 7,
   "metadata": {},
   "outputs": [],
   "source": [
    "Id_tensor_Id = qt.tensor(Pauli[0], Pauli[0]) \n",
    "sx_tensor_sx = qt.tensor(Pauli[1], Pauli[1]) \n",
    "sy_tensor_sy = qt.tensor(Pauli[2], Pauli[2]) \n",
    "sz_tensor_sz = qt.tensor(Pauli[3], Pauli[3]) "
   ]
  },
  {
   "cell_type": "code",
   "execution_count": 8,
   "metadata": {},
   "outputs": [],
   "source": [
    "H_descomposition = 0.5*Id_tensor_Id - 0.5*sx_tensor_sx  - 0.5*sy_tensor_sy + 0.5*sz_tensor_sz\n",
    "H_descomposition_Dim = qt.Qobj(H_descomposition.data.toarray(),dims=[[4],[4]])"
   ]
  },
  {
   "cell_type": "code",
   "execution_count": 9,
   "metadata": {},
   "outputs": [
    {
     "data": {
      "text/latex": [
       "Quantum object: dims = [[4], [4]], shape = (4, 4), type = oper, isherm = True\\begin{equation*}\\left(\\begin{array}{*{11}c}1.0 & 0.0 & 0.0 & 0.0\\\\0.0 & 0.0 & -1.0 & 0.0\\\\0.0 & -1.0 & 0.0 & 0.0\\\\0.0 & 0.0 & 0.0 & 1.0\\\\\\end{array}\\right)\\end{equation*}"
      ],
      "text/plain": [
       "Quantum object: dims = [[4], [4]], shape = (4, 4), type = oper, isherm = True\n",
       "Qobj data =\n",
       "[[ 1.  0.  0.  0.]\n",
       " [ 0.  0. -1.  0.]\n",
       " [ 0. -1.  0.  0.]\n",
       " [ 0.  0.  0.  1.]]"
      ]
     },
     "execution_count": 9,
     "metadata": {},
     "output_type": "execute_result"
    }
   ],
   "source": [
    "H_descomposition_Dim"
   ]
  },
  {
   "cell_type": "code",
   "execution_count": null,
   "metadata": {},
   "outputs": [],
   "source": []
  },
  {
   "cell_type": "markdown",
   "metadata": {},
   "source": [
    "# Part II : Variational-Quantum-Eigensolver"
   ]
  },
  {
   "cell_type": "markdown",
   "metadata": {},
   "source": [
    "In the Variational Quantum Eigensolver (VQE) algorithm we want to  known the lowest eigenvalue of the matriz $H$ using a classical minimization in combination with a quantum circuit, is a hybrid quantum-classical algortihm. The algorithm consists of the steps [1] :\n",
    "* Prepare an initial state |0> \n",
    "* Genarate an ansatz quantum satate $|{\\psi(\\theta)} >$ by applying a quantum circuit $U(\\theta)$ parametrize by (classical) parameters $\\theta$, $|{\\psi(\\theta)} > = U (\\theta)|0>$\n",
    "* The expectation value of the Hamiltonian $H$ is measured which is denoted as\n",
    "\\begin{equation}\n",
    "E (\\theta)= <{\\psi(\\theta)} | H |{\\psi(\\theta)} >\n",
    "\\end{equation}\n",
    "* Update the parameters $\\theta$ to get $E(\\theta)$ smaller by using classical optimizing algorithm\n",
    "* Repeat steps until convergence"
   ]
  },
  {
   "cell_type": "markdown",
   "metadata": {},
   "source": [
    "In this case we have \n",
    "\\begin{equation}\n",
    " H = 0.5*(\\sigma_{0} \\otimes \\sigma_{0}) - 0.5* (\\sigma_{1} \\otimes \\sigma_{1})- 0.5* (\\sigma_{2} \\otimes \\sigma_{2}) + 0.5* (\\sigma_{3} \\otimes \\sigma_{3}) \n",
    "\\end{equation}\n",
    "And the expectation value is\n",
    "\\begin{equation}\n",
    " <H> = 0.5* <{\\psi(\\theta)} | ( \\sigma_{0} \\otimes \\sigma_{0} ) |{\\psi(\\theta)} >  - 0.5*  <{\\psi(\\theta)} | (\\sigma_{1} \\otimes \\sigma_{1}) |{\\psi(\\theta)} > - 0.5*  <{\\psi(\\theta)} | (\\sigma_{2} \\otimes \\sigma_{2}) |{\\psi(\\theta)} > + 0.5* <{\\psi(\\theta)} |  (\\sigma_{3} \\otimes \\sigma_{3}) |{\\psi(\\theta)} >\n",
    "\\end{equation}"
   ]
  },
  {
   "cell_type": "code",
   "execution_count": 10,
   "metadata": {},
   "outputs": [],
   "source": [
    "from qiskit import QuantumCircuit, Aer, execute \n",
    "from qiskit.visualization import plot_histogram\n",
    "import matplotlib.pyplot as plt"
   ]
  },
  {
   "cell_type": "markdown",
   "metadata": {},
   "source": [
    "* # Ansatz: $ (Rx \\otimes I) (CX) (H \\otimes I) |00>$"
   ]
  },
  {
   "cell_type": "markdown",
   "metadata": {},
   "source": [
    "Circuit to apply the ansatz"
   ]
  },
  {
   "cell_type": "code",
   "execution_count": 11,
   "metadata": {},
   "outputs": [],
   "source": [
    "def ansatz(circuit,angle):\n",
    "    circuit.h(0);         circuit.id(1) #Apply (H \\otimes I) |00>\n",
    "    circuit.cx(0,1)                     #Apply (CX) \n",
    "    circuit.rx(angle, 0); circuit.id(1) #Apply (Rx \\otimes I)\n",
    "    return circuit"
   ]
  },
  {
   "cell_type": "markdown",
   "metadata": {},
   "source": [
    "Example of the ansatz for $\\theta = \\pi/4$"
   ]
  },
  {
   "cell_type": "code",
   "execution_count": 12,
   "metadata": {},
   "outputs": [
    {
     "data": {
      "text/html": [
       "<pre style=\"word-wrap: normal;white-space: pre;background: #fff0;line-height: 1.1;font-family: &quot;Courier New&quot;,Courier,monospace\">     ┌───┐     ┌──────────┐\n",
       "q_0: ┤ H ├──■──┤ RX(pi/4) ├\n",
       "     ├───┤┌─┴─┐└──┬───┬───┘\n",
       "q_1: ┤ I ├┤ X ├───┤ I ├────\n",
       "     └───┘└───┘   └───┘    </pre>"
      ],
      "text/plain": [
       "     ┌───┐     ┌──────────┐\n",
       "q_0: ┤ H ├──■──┤ RX(pi/4) ├\n",
       "     ├───┤┌─┴─┐└──┬───┬───┘\n",
       "q_1: ┤ I ├┤ X ├───┤ I ├────\n",
       "     └───┘└───┘   └───┘    "
      ]
     },
     "execution_count": 12,
     "metadata": {},
     "output_type": "execute_result"
    }
   ],
   "source": [
    "ansatzCircuit = QuantumCircuit(2)\n",
    "ansatzCircuit = ansatz(ansatzCircuit,np.pi/4)\n",
    "ansatzCircuit.draw()"
   ]
  },
  {
   "cell_type": "markdown",
   "metadata": {},
   "source": [
    "\\begin{equation}\n",
    "       \\sigma_{3} = \n",
    "       \\begin{bmatrix} \n",
    "        1  & 0  \\cr\n",
    "        0  & -1 \\cr \\end{bmatrix}  \\qquad \\sigma_{3} |0> = (+1)|0> \\quad \\sigma_{3} |1> = (-1)|1>\n",
    "\\end{equation}"
   ]
  },
  {
   "cell_type": "markdown",
   "metadata": {},
   "source": [
    "Any $2×2$ matrix that is a unitary transformation of $\\sigma_{3}$ also satisfies this criteria. \n",
    "That is, we could also use a matrix $A=U^{\\dagger} \\sigma_{3}U$, where $U$ is any other unitary matrix, to give a matrix that defines the two outcomes of a measurement in its $±1$ eigenvectors [2]."
   ]
  },
  {
   "cell_type": "markdown",
   "metadata": {},
   "source": [
    "* ## Circuit to measure $(\\sigma_{3} \\otimes \\sigma_{3})$ ##"
   ]
  },
  {
   "cell_type": "code",
   "execution_count": 13,
   "metadata": {},
   "outputs": [],
   "source": [
    "def zz_meas(angle):\n",
    "    qc = QuantumCircuit(2) # qc is the quantum register of the qubits, in this case 2 qubits\n",
    "    qc = ansatz(qc,angle)\n",
    "    qc.measure_all()\n",
    "    return qc "
   ]
  },
  {
   "cell_type": "markdown",
   "metadata": {},
   "source": [
    "Example of the circuit for $\\theta = \\pi/4$"
   ]
  },
  {
   "cell_type": "code",
   "execution_count": 14,
   "metadata": {},
   "outputs": [
    {
     "data": {
      "text/html": [
       "<pre style=\"word-wrap: normal;white-space: pre;background: #fff0;line-height: 1.1;font-family: &quot;Courier New&quot;,Courier,monospace\">        ┌───┐     ┌──────────┐ ░ ┌─┐   \n",
       "   q_0: ┤ H ├──■──┤ RX(pi/4) ├─░─┤M├───\n",
       "        ├───┤┌─┴─┐└──┬───┬───┘ ░ └╥┘┌─┐\n",
       "   q_1: ┤ I ├┤ X ├───┤ I ├─────░──╫─┤M├\n",
       "        └───┘└───┘   └───┘     ░  ║ └╥┘\n",
       "meas_0: ══════════════════════════╩══╬═\n",
       "                                     ║ \n",
       "meas_1: ═════════════════════════════╩═\n",
       "                                       </pre>"
      ],
      "text/plain": [
       "        ┌───┐     ┌──────────┐ ░ ┌─┐   \n",
       "   q_0: ┤ H ├──■──┤ RX(pi/4) ├─░─┤M├───\n",
       "        ├───┤┌─┴─┐└──┬───┬───┘ ░ └╥┘┌─┐\n",
       "   q_1: ┤ I ├┤ X ├───┤ I ├─────░──╫─┤M├\n",
       "        └───┘└───┘   └───┘     ░  ║ └╥┘\n",
       "meas_0: ══════════════════════════╩══╬═\n",
       "                                     ║ \n",
       "meas_1: ═════════════════════════════╩═\n",
       "                                       "
      ]
     },
     "execution_count": 14,
     "metadata": {},
     "output_type": "execute_result"
    }
   ],
   "source": [
    "zz = zz_meas(np.pi/4)\n",
    "zz.draw()"
   ]
  },
  {
   "cell_type": "markdown",
   "metadata": {},
   "source": [
    "* ## Circuit to measure $(\\sigma_{2} \\otimes \\sigma_{2})$ ##"
   ]
  },
  {
   "cell_type": "markdown",
   "metadata": {},
   "source": [
    "Measure $\\sigma_{2}$ is equivalent to applying $H S^{\\dagger}$ (H=Hadamard) and then measuring in the computational basis. Where \n",
    "\\begin{equation}\n",
    "       S^{\\dagger} = \n",
    "       \\begin{bmatrix} \n",
    "        1  & 0  \\cr\n",
    "        0  & -i \\cr \\end{bmatrix}  \\qquad \n",
    "        H = \\frac{1}{\\sqrt{2}} \n",
    "       \\begin{bmatrix} \n",
    "        1  & 1  \\cr\n",
    "        1  & -1 \\cr \\end{bmatrix}  \\qquad\n",
    "\\end{equation}\n",
    "\\begin{equation}\n",
    "\\sigma_{2} =  (H S)\\sigma_{3} (H S^{\\dagger}) \\quad Y = (H S) Z (H S^{\\dagger})\n",
    "\\end{equation}\n"
   ]
  },
  {
   "cell_type": "code",
   "execution_count": 15,
   "metadata": {},
   "outputs": [],
   "source": [
    "def yy_meas(angle):\n",
    "    qc = QuantumCircuit(2)  # qc is the quantum register of the qubits, in this case 2 qubits\n",
    "    qc = ansatz(qc,angle)\n",
    "    qc.barrier()\n",
    "    \n",
    "    qc.h(0);  qc.h(1)   #Apply (H \\otimes H) |00>\n",
    "    qc.sdg(0); qc.sdg(1) #Apply (S^{\\dagger} \\otimes S^{\\dagger}) \n",
    "    qc.measure_all()\n",
    "    return qc "
   ]
  },
  {
   "cell_type": "markdown",
   "metadata": {},
   "source": [
    "Example of the circuit for $\\theta = \\pi/4$"
   ]
  },
  {
   "cell_type": "code",
   "execution_count": 16,
   "metadata": {},
   "outputs": [
    {
     "data": {
      "text/html": [
       "<pre style=\"word-wrap: normal;white-space: pre;background: #fff0;line-height: 1.1;font-family: &quot;Courier New&quot;,Courier,monospace\">        ┌───┐     ┌──────────┐ ░ ┌───┐┌─────┐ ░ ┌─┐   \n",
       "   q_0: ┤ H ├──■──┤ RX(pi/4) ├─░─┤ H ├┤ SDG ├─░─┤M├───\n",
       "        ├───┤┌─┴─┐└──┬───┬───┘ ░ ├───┤├─────┤ ░ └╥┘┌─┐\n",
       "   q_1: ┤ I ├┤ X ├───┤ I ├─────░─┤ H ├┤ SDG ├─░──╫─┤M├\n",
       "        └───┘└───┘   └───┘     ░ └───┘└─────┘ ░  ║ └╥┘\n",
       "meas_0: ═════════════════════════════════════════╩══╬═\n",
       "                                                    ║ \n",
       "meas_1: ════════════════════════════════════════════╩═\n",
       "                                                      </pre>"
      ],
      "text/plain": [
       "        ┌───┐     ┌──────────┐ ░ ┌───┐┌─────┐ ░ ┌─┐   \n",
       "   q_0: ┤ H ├──■──┤ RX(pi/4) ├─░─┤ H ├┤ SDG ├─░─┤M├───\n",
       "        ├───┤┌─┴─┐└──┬───┬───┘ ░ ├───┤├─────┤ ░ └╥┘┌─┐\n",
       "   q_1: ┤ I ├┤ X ├───┤ I ├─────░─┤ H ├┤ SDG ├─░──╫─┤M├\n",
       "        └───┘└───┘   └───┘     ░ └───┘└─────┘ ░  ║ └╥┘\n",
       "meas_0: ═════════════════════════════════════════╩══╬═\n",
       "                                                    ║ \n",
       "meas_1: ════════════════════════════════════════════╩═\n",
       "                                                      "
      ]
     },
     "execution_count": 16,
     "metadata": {},
     "output_type": "execute_result"
    }
   ],
   "source": [
    "yy = yy_meas(np.pi/4)\n",
    "yy.draw()"
   ]
  },
  {
   "cell_type": "markdown",
   "metadata": {},
   "source": [
    "* ## Circuit to measure $(\\sigma_{1} \\otimes \\sigma_{1})$ ##"
   ]
  },
  {
   "cell_type": "markdown",
   "metadata": {},
   "source": [
    "Measure $\\sigma_{1}$ is equivalent to applying $H$ (H=Hadamard) and then measuring in the computational basis. Where \n",
    "\\begin{equation} \n",
    "        H = \\frac{1}{\\sqrt{2}} \n",
    "       \\begin{bmatrix} \n",
    "        1  & 1  \\cr\n",
    "        1  & -1 \\cr \\end{bmatrix}  \\qquad\n",
    "\\end{equation}\n",
    "\\begin{equation}\n",
    "\\sigma_{1} =  H \\sigma_{3} H \\quad X = H Z H\n",
    "\\end{equation}\n"
   ]
  },
  {
   "cell_type": "code",
   "execution_count": 17,
   "metadata": {},
   "outputs": [],
   "source": [
    "def xx_meas(angle):\n",
    "    qc = QuantumCircuit(2) # qc is the quantum register of the qubits, in this case 2 qubits\n",
    "    qc = ansatz(qc,angle)\n",
    "    \n",
    "    qc.barrier()\n",
    "\n",
    "    qc.h(0); qc.h(1) #Apply (H \\otimes H) |00>\n",
    "    qc.measure_all()\n",
    "    return qc "
   ]
  },
  {
   "cell_type": "markdown",
   "metadata": {},
   "source": [
    "Example of the circuit for $\\theta = \\pi/4$"
   ]
  },
  {
   "cell_type": "code",
   "execution_count": 18,
   "metadata": {},
   "outputs": [
    {
     "data": {
      "text/html": [
       "<pre style=\"word-wrap: normal;white-space: pre;background: #fff0;line-height: 1.1;font-family: &quot;Courier New&quot;,Courier,monospace\">        ┌───┐     ┌──────────┐ ░ ┌───┐ ░ ┌─┐   \n",
       "   q_0: ┤ H ├──■──┤ RX(pi/4) ├─░─┤ H ├─░─┤M├───\n",
       "        ├───┤┌─┴─┐└──┬───┬───┘ ░ ├───┤ ░ └╥┘┌─┐\n",
       "   q_1: ┤ I ├┤ X ├───┤ I ├─────░─┤ H ├─░──╫─┤M├\n",
       "        └───┘└───┘   └───┘     ░ └───┘ ░  ║ └╥┘\n",
       "meas_0: ══════════════════════════════════╩══╬═\n",
       "                                             ║ \n",
       "meas_1: ═════════════════════════════════════╩═\n",
       "                                               </pre>"
      ],
      "text/plain": [
       "        ┌───┐     ┌──────────┐ ░ ┌───┐ ░ ┌─┐   \n",
       "   q_0: ┤ H ├──■──┤ RX(pi/4) ├─░─┤ H ├─░─┤M├───\n",
       "        ├───┤┌─┴─┐└──┬───┬───┘ ░ ├───┤ ░ └╥┘┌─┐\n",
       "   q_1: ┤ I ├┤ X ├───┤ I ├─────░─┤ H ├─░──╫─┤M├\n",
       "        └───┘└───┘   └───┘     ░ └───┘ ░  ║ └╥┘\n",
       "meas_0: ══════════════════════════════════╩══╬═\n",
       "                                             ║ \n",
       "meas_1: ═════════════════════════════════════╩═\n",
       "                                               "
      ]
     },
     "execution_count": 18,
     "metadata": {},
     "output_type": "execute_result"
    }
   ],
   "source": [
    "xx = xx_meas(np.pi/4)\n",
    "xx.draw()"
   ]
  },
  {
   "cell_type": "markdown",
   "metadata": {},
   "source": [
    "The 'expectation' function finds an estimation of the expectation values of the operators from the counts of multiples measures"
   ]
  },
  {
   "cell_type": "code",
   "execution_count": 19,
   "metadata": {},
   "outputs": [],
   "source": [
    "def expectation(qcGiven):\n",
    "    simulator = Aer.get_backend('qasm_simulator') #Simulator for the measures\n",
    "    result = execute(qcGiven, backend = simulator, shots=10000).result() # Execute the quantum circuit (qcGiven) 10000 times\n",
    "    counts = result.get_counts(qcGiven) #Count the results\n",
    "    # 'if' for the times that there are not measure in the state [3]\n",
    "    if '00' not in counts:\n",
    "        counts['00'] = 0\n",
    "    if '01' not in counts:\n",
    "        counts['01'] = 0\n",
    "    if '10' not in counts:\n",
    "        counts['10'] = 0\n",
    "    if '11' not in counts:\n",
    "        counts['11'] = 0\n",
    "       \n",
    "    total_counts = counts['00'] + counts['11'] + counts['01'] + counts['10']\n",
    "    zzCounts = counts['00'] + counts['11'] - counts['01'] - counts['10']\n",
    "    zzCounts = zzCounts / total_counts\n",
    "    #plot_histogram(counts)\n",
    "    \n",
    "    return zzCounts"
   ]
  },
  {
   "cell_type": "markdown",
   "metadata": {},
   "source": [
    "The parameter $\\theta$ for the estimation of the eigenvalue will be in the range\n",
    "\\begin{equation}\n",
    "\\theta = [0 , 2 \\pi]\n",
    "\\end{equation}"
   ]
  },
  {
   "cell_type": "code",
   "execution_count": 20,
   "metadata": {},
   "outputs": [],
   "source": [
    "E = []; # List where the estimations of the eigenvalue will be stored\n",
    "anglelist = np.linspace(0.0,2*np.pi,200) # Parameter \\theta for the minimization"
   ]
  },
  {
   "cell_type": "markdown",
   "metadata": {},
   "source": [
    "The function 'Eigenvalue_Approx' receive the circuits to send to the expectation function and estimate the expectation value of the matrix H"
   ]
  },
  {
   "cell_type": "code",
   "execution_count": 21,
   "metadata": {},
   "outputs": [],
   "source": [
    "def Eigenvalue_Approx(xx,yy,zz):\n",
    "    xx_value = expectation(xx) \n",
    "    yy_value = expectation(yy)\n",
    "    zz_value = expectation(zz)\n",
    "    EigenValue = 0.5 - (0.5)*xx_value - (0.5)*yy_value + (0.5)*zz_value # Estimate the expectation value of the matriz H\n",
    "    return EigenValue "
   ]
  },
  {
   "cell_type": "markdown",
   "metadata": {},
   "source": [
    "A parameter from the list $\\theta = [0 , 2 \\pi]$ is assign to each circuit and send to the the function 'Eigenvalue_Approx', stores the results in the list 'E'"
   ]
  },
  {
   "cell_type": "code",
   "execution_count": 22,
   "metadata": {},
   "outputs": [],
   "source": [
    "for theta in anglelist:\n",
    "    xx = xx_meas(theta)\n",
    "    yy = yy_meas(theta)\n",
    "    zz = zz_meas(theta)\n",
    "    E.append(Eigenvalue_Approx(xx,yy,zz))"
   ]
  },
  {
   "cell_type": "markdown",
   "metadata": {},
   "source": [
    "Plot the results "
   ]
  },
  {
   "cell_type": "code",
   "execution_count": 23,
   "metadata": {},
   "outputs": [
    {
     "data": {
      "image/png": "[encoded data removed]",
      "text/plain": [
       "<Figure size 720x288 with 1 Axes>"
      ]
     },
     "metadata": {
      "needs_background": "light"
     },
     "output_type": "display_data"
    }
   ],
   "source": [
    "plt.figure(figsize = (10,4))\n",
    "plt.plot(anglelist,E , linewidth=5)\n",
    "plt.grid()\n",
    "\n",
    "\n",
    "plt.xlabel(r'$\\theta$', fontsize = 22)\n",
    "plt.ylabel(r'$<{\\psi(\\theta)} | H |{\\psi(\\theta)} >$' , fontsize = 20)\n",
    "plt.yticks(fontsize = 16)\n",
    "plt.xticks([0.0, np.pi/4, np.pi/2, 3*np.pi/4 , np.pi, 5*np.pi/4 , 3*np.pi/2, 7*np.pi/4 , 2*np.pi],\n",
    "           [r'$0$', r'$\\pi/4$', r'$\\pi/2$', r'$3\\pi/4$', r'$\\pi$', r'$5\\pi/4$', r'$3\\pi/2$' , r'$7\\pi/4$', r'$2\\pi$' ], fontsize = 16)\n",
    "plt.show()"
   ]
  },
  {
   "cell_type": "markdown",
   "metadata": {},
   "source": [
    "From the graph and the list of values stored in the list we can find the minimum eigenvalue of the matrix $H$"
   ]
  },
  {
   "cell_type": "code",
   "execution_count": 24,
   "metadata": {},
   "outputs": [
    {
     "name": "stdout",
     "output_type": "stream",
     "text": [
      "The estimated minimum eigenvalue of the matrix H from VQE algorithm is: -1.0\n"
     ]
    }
   ],
   "source": [
    "MimimumEigenvalue = np.amin(E)\n",
    "print('The estimated minimum eigenvalue of the matrix H from VQE algorithm is: {}'.format(MimimumEigenvalue))"
   ]
  },
  {
   "cell_type": "code",
   "execution_count": 25,
   "metadata": {},
   "outputs": [
    {
     "name": "stdout",
     "output_type": "stream",
     "text": [
      "The exact minimum eigenvalue of the matrix H is: -1.0\n"
     ]
    }
   ],
   "source": [
    "evalsH, eketsH =H.eigenstates()\n",
    "MimimumEigenvalue_Exact  = np.amin(E)\n",
    "print('The exact minimum eigenvalue of the matrix H is: {}'.format(MimimumEigenvalue_Exact))"
   ]
  },
  {
   "cell_type": "markdown",
   "metadata": {},
   "source": [
    "# References"
   ]
  },
  {
   "cell_type": "markdown",
   "metadata": {},
   "source": [
    "[1] https://quantaggle.com/algorithms/algorithm/#VQE\n",
    "\n",
    "[2] https://docs.microsoft.com/en-us/quantum/concepts/pauli-measurements\n",
    "\n",
    "[3] https://www.youtube.com/watch?v=o4BAOKbcd3o&feature=youtu.be&list=PLOFEBzvs-VvrXTMy5Y2IqmSaUjfnhvBHR\n",
    "\n",
    "[4] https://www.mustythoughts.com/variational-quantum-eigensolver-explained"
   ]
  },
  {
   "cell_type": "code",
   "execution_count": null,
   "metadata": {},
   "outputs": [],
   "source": []
  }
 ],
 "metadata": {
  "kernelspec": {
   "display_name": "Python 3",
   "language": "python",
   "name": "python3"
  },
  "language_info": {
   "codemirror_mode": {
    "name": "ipython",
    "version": 3
   },
   "file_extension": ".py",
   "mimetype": "text/x-python",
   "name": "python",
   "nbconvert_exporter": "python",
   "pygments_lexer": "ipython3",
   "version": "3.7.7"
  }
 },
 "nbformat": 4,
 "nbformat_minor": 4
}
